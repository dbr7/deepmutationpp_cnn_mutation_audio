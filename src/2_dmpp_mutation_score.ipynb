{
 "cells": [
  {
   "cell_type": "code",
   "execution_count": 1,
   "metadata": {},
   "outputs": [],
   "source": [
    "import os\n",
    "import numpy as np\n",
    "import pickle\n",
    "import glob\n",
    "import networkx as nx\n",
    "from tqdm import tqdm\n",
    "from deepcrime_scripts.utils import *\n",
    "import statsmodels.stats.proportion as smp\n",
    "\n",
    "HOME_DIR = '/home/DC_replication'\n",
    "OUTPUT_DIR = './output'"
   ]
  },
  {
   "cell_type": "code",
   "execution_count": 2,
   "metadata": {},
   "outputs": [],
   "source": [
    "target_subject = 'audio'\n",
    "total_model_num = 20"
   ]
  },
  {
   "cell_type": "code",
   "execution_count": 4,
   "metadata": {},
   "outputs": [],
   "source": [
    "# def remove_dup(path):\n",
    "#     lines = []\n",
    "#     with open(path, 'r') as f:\n",
    "#         for line in f:\n",
    "#             if line not in lines:\n",
    "#                 lines.append(line)\n",
    "#     with open(path, 'w') as f:        \n",
    "#         for line in lines:\n",
    "#             f.write(line)\n",
    "\n",
    "def read_mutant_accs_file(path):\n",
    "    # remove_dup(path)\n",
    "    mutants_killed = {}\n",
    "    with open(path, 'r') as f:\n",
    "        for line in f:\n",
    "            op_no, mut_no, model_no, acc, killed = line.strip().split(',')\n",
    "            model_no = int(model_no)\n",
    "\n",
    "            if model_no != 0:\n",
    "                continue\n",
    "\n",
    "            if op_no not in mutants_killed:\n",
    "                mutants_killed[op_no] = {'killed': 0, 'total': 0}\n",
    "\n",
    "            if killed == 'True':\n",
    "                mutants_killed[op_no]['killed'] += 1\n",
    "            mutants_killed[op_no]['total'] += 1\n",
    "\n",
    "    return mutants_killed\n",
    "\n",
    "path_killed_by_train = f'{OUTPUT_DIR}/mutants_accs_trainset.csv'\n",
    "path_killed_by_strong_test = f'{OUTPUT_DIR}/mutants_accs_strong_testset.csv'\n",
    "path_killed_by_weak_test = f'{OUTPUT_DIR}/mutants_accs_weak_testset.csv'\n",
    "\n",
    "m_killed_train = read_mutant_accs_file(path_killed_by_train)\n",
    "m_killed_strong_test = read_mutant_accs_file(path_killed_by_strong_test)\n",
    "m_killed_weak_test = read_mutant_accs_file(path_killed_by_weak_test)"
   ]
  },
  {
   "cell_type": "code",
   "execution_count": 10,
   "metadata": {},
   "outputs": [
    {
     "name": "stdout",
     "output_type": "stream",
     "text": [
      "1: 70.0, 1.0, 0.3\n",
      "20, 20, 6\n",
      "==============================\n",
      "2: 68.42, 1.0, 0.3157894736842105\n",
      "19, 19, 6\n",
      "==============================\n",
      "3: 20.0, 1.0, 0.8\n",
      "20, 20, 16\n",
      "==============================\n",
      "4: 45.0, 1.0, 0.55\n",
      "20, 20, 11\n",
      "==============================\n"
     ]
    }
   ],
   "source": [
    "for mut_op, train_result in m_killed_train.items():\n",
    "    if train_result['killed'] == 0:\n",
    "        continue    \n",
    "    num_killed_by_train = train_result['killed']    \n",
    "    num_killed_by_strong_test = m_killed_strong_test[mut_op]['killed']    \n",
    "    num_killed_by_weak_test = m_killed_weak_test[mut_op]['killed']\n",
    "\n",
    "    ms_weak = num_killed_by_weak_test / num_killed_by_train\n",
    "    ms_strong = num_killed_by_strong_test / num_killed_by_train    \n",
    "\n",
    "    if num_killed_by_train < 10:\n",
    "        sensitivity = -1\n",
    "    else:\n",
    "        sensitivity = round((ms_strong - ms_weak) * 100 / ms_strong, 2)\n",
    "\n",
    "    print(f'{mut_op}: {sensitivity}, {ms_strong}, {ms_weak}')\n",
    "    print(f'{num_killed_by_train}, {num_killed_by_strong_test}, {num_killed_by_weak_test}')\n",
    "    print('='*30)\n",
    "\n",
    "    "
   ]
  },
  {
   "cell_type": "code",
   "execution_count": null,
   "metadata": {},
   "outputs": [],
   "source": []
  }
 ],
 "metadata": {
  "kernelspec": {
   "display_name": "Python 3",
   "language": "python",
   "name": "python3"
  },
  "language_info": {
   "codemirror_mode": {
    "name": "ipython",
    "version": 3
   },
   "file_extension": ".py",
   "mimetype": "text/x-python",
   "name": "python",
   "nbconvert_exporter": "python",
   "pygments_lexer": "ipython3",
   "version": "3.8.10"
  },
  "orig_nbformat": 4
 },
 "nbformat": 4,
 "nbformat_minor": 2
}
